{
  "nbformat": 4,
  "nbformat_minor": 0,
  "metadata": {
    "colab": {
      "provenance": [],
      "collapsed_sections": [
        "Rz7Z8EPl58M_",
        "TR4hZKL31gmC",
        "SkLXM4--1oUc",
        "E7hJjL-21uZ8",
        "aI6FEy_B1zcT",
        "m00EDLLv17RC"
      ],
      "include_colab_link": true
    },
    "kernelspec": {
      "name": "python3",
      "display_name": "Python 3"
    },
    "language_info": {
      "name": "python"
    }
  },
  "cells": [
    {
      "cell_type": "markdown",
      "metadata": {
        "id": "view-in-github",
        "colab_type": "text"
      },
      "source": [
        "<a href=\"https://colab.research.google.com/github/Mr-Thom/PerigosoOuNao/blob/main/PerigosoOuNao.ipynb\" target=\"_parent\"><img src=\"https://colab.research.google.com/assets/colab-badge.svg\" alt=\"Open In Colab\"/></a>"
      ]
    },
    {
      "cell_type": "markdown",
      "source": [
        "# **PerigosoOuNão?**\n",
        "PerigosoOuNão trata-se de **um ChatBOT desenvolvido especialmente para responder dúvidas sobre Interações Medicamentosas**. O Usuário informa dois ou mais medicamentos e o ChatBOT irá aprasentar, em uma escala predefinida, o quão nocivo e prejudicial é a interação entre estes medicamentos. O propósito do deste aplicativo é **fornecer de forma rápida, clara e precisa a gravidade das interações medicamentosas**, poupando o usuário de pesquisar manualmente bulas e efeitos colaterais.\n",
        "\n",
        "Abaixo segue o desenvolvimento do ChatBOT na linguagem **Python**, sendo utilizado a Inteligência Artificial do Google, o **Gemini**."
      ],
      "metadata": {
        "id": "Yj9f5WOPze1X"
      }
    },
    {
      "cell_type": "markdown",
      "source": [
        "# **INSTALAÇÕES E IMPLEMENTAÇÕES**"
      ],
      "metadata": {
        "id": "Rz7Z8EPl58M_"
      }
    },
    {
      "cell_type": "code",
      "execution_count": 20,
      "metadata": {
        "id": "Z-V29r491cqw",
        "colab": {
          "base_uri": "https://localhost:8080/"
        },
        "outputId": "e4ce872a-b6d9-4112-ef42-b3e81816b7f6"
      },
      "outputs": [
        {
          "output_type": "stream",
          "name": "stdout",
          "text": [
            "Requirement already satisfied: google.generativeai in /usr/local/lib/python3.10/dist-packages (0.5.2)\n",
            "Requirement already satisfied: google-ai-generativelanguage==0.6.2 in /usr/local/lib/python3.10/dist-packages (from google.generativeai) (0.6.2)\n",
            "Requirement already satisfied: google-api-core in /usr/local/lib/python3.10/dist-packages (from google.generativeai) (2.11.1)\n",
            "Requirement already satisfied: google-api-python-client in /usr/local/lib/python3.10/dist-packages (from google.generativeai) (2.84.0)\n",
            "Requirement already satisfied: google-auth>=2.15.0 in /usr/local/lib/python3.10/dist-packages (from google.generativeai) (2.27.0)\n",
            "Requirement already satisfied: protobuf in /usr/local/lib/python3.10/dist-packages (from google.generativeai) (3.20.3)\n",
            "Requirement already satisfied: pydantic in /usr/local/lib/python3.10/dist-packages (from google.generativeai) (2.7.1)\n",
            "Requirement already satisfied: tqdm in /usr/local/lib/python3.10/dist-packages (from google.generativeai) (4.66.4)\n",
            "Requirement already satisfied: typing-extensions in /usr/local/lib/python3.10/dist-packages (from google.generativeai) (4.11.0)\n",
            "Requirement already satisfied: proto-plus<2.0.0dev,>=1.22.3 in /usr/local/lib/python3.10/dist-packages (from google-ai-generativelanguage==0.6.2->google.generativeai) (1.23.0)\n",
            "Requirement already satisfied: cachetools<6.0,>=2.0.0 in /usr/local/lib/python3.10/dist-packages (from google-auth>=2.15.0->google.generativeai) (5.3.3)\n",
            "Requirement already satisfied: pyasn1-modules>=0.2.1 in /usr/local/lib/python3.10/dist-packages (from google-auth>=2.15.0->google.generativeai) (0.4.0)\n",
            "Requirement already satisfied: rsa<5,>=3.1.4 in /usr/local/lib/python3.10/dist-packages (from google-auth>=2.15.0->google.generativeai) (4.9)\n",
            "Requirement already satisfied: googleapis-common-protos<2.0.dev0,>=1.56.2 in /usr/local/lib/python3.10/dist-packages (from google-api-core->google.generativeai) (1.63.0)\n",
            "Requirement already satisfied: requests<3.0.0.dev0,>=2.18.0 in /usr/local/lib/python3.10/dist-packages (from google-api-core->google.generativeai) (2.31.0)\n",
            "Requirement already satisfied: httplib2<1dev,>=0.15.0 in /usr/local/lib/python3.10/dist-packages (from google-api-python-client->google.generativeai) (0.22.0)\n",
            "Requirement already satisfied: google-auth-httplib2>=0.1.0 in /usr/local/lib/python3.10/dist-packages (from google-api-python-client->google.generativeai) (0.1.1)\n",
            "Requirement already satisfied: uritemplate<5,>=3.0.1 in /usr/local/lib/python3.10/dist-packages (from google-api-python-client->google.generativeai) (4.1.1)\n",
            "Requirement already satisfied: annotated-types>=0.4.0 in /usr/local/lib/python3.10/dist-packages (from pydantic->google.generativeai) (0.6.0)\n",
            "Requirement already satisfied: pydantic-core==2.18.2 in /usr/local/lib/python3.10/dist-packages (from pydantic->google.generativeai) (2.18.2)\n",
            "Requirement already satisfied: grpcio<2.0dev,>=1.33.2 in /usr/local/lib/python3.10/dist-packages (from google-api-core->google.generativeai) (1.63.0)\n",
            "Requirement already satisfied: grpcio-status<2.0.dev0,>=1.33.2 in /usr/local/lib/python3.10/dist-packages (from google-api-core->google.generativeai) (1.48.2)\n",
            "Requirement already satisfied: pyparsing!=3.0.0,!=3.0.1,!=3.0.2,!=3.0.3,<4,>=2.4.2 in /usr/local/lib/python3.10/dist-packages (from httplib2<1dev,>=0.15.0->google-api-python-client->google.generativeai) (3.1.2)\n",
            "Requirement already satisfied: pyasn1<0.7.0,>=0.4.6 in /usr/local/lib/python3.10/dist-packages (from pyasn1-modules>=0.2.1->google-auth>=2.15.0->google.generativeai) (0.6.0)\n",
            "Requirement already satisfied: charset-normalizer<4,>=2 in /usr/local/lib/python3.10/dist-packages (from requests<3.0.0.dev0,>=2.18.0->google-api-core->google.generativeai) (3.3.2)\n",
            "Requirement already satisfied: idna<4,>=2.5 in /usr/local/lib/python3.10/dist-packages (from requests<3.0.0.dev0,>=2.18.0->google-api-core->google.generativeai) (3.7)\n",
            "Requirement already satisfied: urllib3<3,>=1.21.1 in /usr/local/lib/python3.10/dist-packages (from requests<3.0.0.dev0,>=2.18.0->google-api-core->google.generativeai) (2.0.7)\n",
            "Requirement already satisfied: certifi>=2017.4.17 in /usr/local/lib/python3.10/dist-packages (from requests<3.0.0.dev0,>=2.18.0->google-api-core->google.generativeai) (2024.2.2)\n"
          ]
        }
      ],
      "source": [
        "!pip install google.generativeai\n",
        "\n",
        "import google.generativeai as genai\n",
        "import textwrap\n",
        "from IPython.display import display\n",
        "from IPython.display import Markdown\n",
        "from google.colab import userdata"
      ]
    },
    {
      "cell_type": "markdown",
      "source": [
        "# **CONFIGURAÇÕES INICIAIS**"
      ],
      "metadata": {
        "id": "TR4hZKL31gmC"
      }
    },
    {
      "cell_type": "code",
      "source": [
        "GOOGLE_API_KEY=userdata.get(\"SECRET_KEY\")\n",
        "genai.configure(api_key=GOOGLE_API_KEY)"
      ],
      "metadata": {
        "id": "Clylb0KL1n_5"
      },
      "execution_count": 21,
      "outputs": []
    },
    {
      "cell_type": "markdown",
      "source": [
        "# **CONFIGURAÇÕES DE GERAÇÃO E SEGURANÇA**"
      ],
      "metadata": {
        "id": "SkLXM4--1oUc"
      }
    },
    {
      "cell_type": "code",
      "source": [
        "generation_config = {\n",
        "  \"candidate_count\": 1,\n",
        "  \"temperature\": 0.1,\n",
        "}\n",
        "safety_settings={\n",
        "    'HATE': 'BLOCK_MEDIUM_AND_ABOVE',\n",
        "    'HARASSMENT': 'BLOCK_MEDIUM_AND_ABOVE',\n",
        "    'SEXUAL' : 'BLOCK_ONLY_HIGH',\n",
        "    'DANGEROUS' : 'BLOCK_NONE'\n",
        "    }"
      ],
      "metadata": {
        "id": "MV6JUCRR1rNg"
      },
      "execution_count": 22,
      "outputs": []
    },
    {
      "cell_type": "markdown",
      "source": [
        "# **CRIAÇÃO DO MODELO DE IA E DO CHATBOT**"
      ],
      "metadata": {
        "id": "E7hJjL-21uZ8"
      }
    },
    {
      "cell_type": "code",
      "source": [
        "model = genai.GenerativeModel(model_name='gemini-1.0-pro',\n",
        "                                  generation_config=generation_config,\n",
        "                                  safety_settings=safety_settings,)\n",
        "\n",
        "chat = model.start_chat(history=[])"
      ],
      "metadata": {
        "id": "jWVI397G1vvD"
      },
      "execution_count": 23,
      "outputs": []
    },
    {
      "cell_type": "markdown",
      "source": [
        "# **PREDEFINIÇÃO INICIAL DO CHATBOT (CONTEXTUALIZAÇÃO)**"
      ],
      "metadata": {
        "id": "aI6FEy_B1zcT"
      }
    },
    {
      "cell_type": "code",
      "source": [
        "chat.send_message(\"Você é ChatBOT projetado para analisar interações medicamentosas e fornecer informações gerais\")\n",
        "chat.send_message(\"Você não deve responder e nem fornecer opiniões, crenças pessoais ou discussões\")\n",
        "chat.send_message(\"Suas respostas devem ser sempre precisas e científicas\")"
      ],
      "metadata": {
        "colab": {
          "base_uri": "https://localhost:8080/",
          "height": 225
        },
        "id": "RB_-ker41wdN",
        "outputId": "00c262cc-805a-4bb0-a87f-7006173ffe09"
      },
      "execution_count": 24,
      "outputs": [
        {
          "output_type": "execute_result",
          "data": {
            "text/plain": [
              "response:\n",
              "GenerateContentResponse(\n",
              "    done=True,\n",
              "    iterator=None,\n",
              "    result=glm.GenerateContentResponse({'candidates': [{'content': {'parts': [{'text': 'Entendo. Minhas respostas devem ser sempre precisas e científicas. Vou tentar o meu melhor para seguir esta instrução. No entanto, se você me fizer uma pergunta sobre um tópico que não conheço bem, tentarei fornecer uma resposta que seja o mais precisa e científica possível, com base nas informações disponíveis para mim. Além disso, tentarei citar minhas fontes sempre que possível.'}], 'role': 'model'}, 'finish_reason': 1, 'index': 0, 'safety_ratings': [{'category': 9, 'probability': 1, 'blocked': False}, {'category': 8, 'probability': 1, 'blocked': False}, {'category': 7, 'probability': 1, 'blocked': False}, {'category': 10, 'probability': 1, 'blocked': False}], 'token_count': 0, 'grounding_attributions': []}]}),\n",
              ")"
            ]
          },
          "metadata": {},
          "execution_count": 24
        }
      ]
    },
    {
      "cell_type": "markdown",
      "source": [
        "# **DEFINIÇÃO DAS FUNÇÕES**"
      ],
      "metadata": {
        "id": "m00EDLLv17RC"
      }
    },
    {
      "cell_type": "code",
      "source": [
        "def to_markdown(text):\n",
        "  text = text.replace('•', '  *')\n",
        "  return Markdown(textwrap.indent(text, '> ', predicate=lambda _: True))"
      ],
      "metadata": {
        "id": "sM6b8t9T3fYg"
      },
      "execution_count": 25,
      "outputs": []
    },
    {
      "cell_type": "markdown",
      "source": [
        "# **INTERAÇÃO DO USUÁRIO COM O CHATBOT**"
      ],
      "metadata": {
        "id": "QmTBgCkV2A2x"
      }
    },
    {
      "cell_type": "markdown",
      "source": [
        "Nesta parte há a interação do Usuário com o ChatBOT. Para uma boa interação, há, inicialmente, uma apresentação da Aplicação ao Usuário, além de uma breve instrução sobre como prosseguir na interação, como:\n",
        "\n",
        "\n",
        "\n",
        "*   Para encerrar o ChatBOT digite **\"F\"** ou **\"FIM\"** ou **apenas clique enter**. Não é necessário escrever \"F\" ou \"FIM\" somente em maiúsculo, pois pode ser escrito tanto em minúsculo e maiúsculo quanto alternando entre eles.\n",
        "*   O ChatBOT é dedicado exclusivamente para analisar interações medicamentosas, portanto ele não atenderá perguntas pessoais ou diferentes ordens.\n",
        "\n",
        "Para pesquisar uma interação medicamentosa é necessário escrever no campo de texto (Input) destacado após a frase \"Cite os Medicamentos para a Pesquisa:\". A forma de pesquisar pode seguir dois exemplos seguintes:\n",
        "\n",
        "*   **Exemplo em Formato de Pergunta:** Qual é a interação medicamentosa entre Marevan, Fluconazol e Cloridrato de Cetoconazol.\n",
        "*   **Exemplo em Formato de Citação/Enumeração:** Marevan, Fluconazol e Cloridrato de Cetoconazol.\n",
        "\n",
        "**Após a pesquisa, aguarde alguns instantes para o processamento da solicitação.** A resposta da pesquisa sairá no seguinte formato:\n",
        "\n",
        "--------------------------------------------------------------------------------\n",
        "**MEDICAMENTOS**\n",
        "\n",
        "...\n",
        "\n",
        "**EFEITOS COLATERAIS**\n",
        "\n",
        "...\n",
        "\n",
        "**GRUPOS DE RISCO**\n",
        "\n",
        "...\n",
        "\n",
        "**AVISO IMPORTANTE**\n",
        "\n",
        "...\n",
        "\n",
        "--------------------------------------------------------------------------------\n",
        "\n",
        "Após a resposta do ChatBOT, você pode preencher o campo de pesquisa novamente com outra pergunta ou apenas encerrar o ChatBOT."
      ],
      "metadata": {
        "id": "mc5rgnGa7ReY"
      }
    },
    {
      "cell_type": "markdown",
      "source": [
        "**EXEMPLOS DE REMÉDIO**\n",
        "\n",
        "\n",
        "\n",
        "*   Paracetamol\n",
        "\n",
        "*   Ibuprofeno\n",
        "\n",
        "*   Marevan\n",
        "\n",
        "*   Fluconazol\n",
        "*   Cloridrato de Cetoconazol\n",
        "\n",
        "\n",
        "*   Polaramine\n",
        "\n",
        "\n",
        "*   Fluoxetina\n",
        "\n",
        "\n",
        "*   Amoxicilina\n",
        "\n",
        "*   Venlafaxina\n",
        "*   Dipirona\n",
        "\n",
        "\n",
        "\n"
      ],
      "metadata": {
        "id": "rOKFUUhq523G"
      }
    },
    {
      "cell_type": "code",
      "source": [
        "hello_world = \"Olá, seja bem-vindo ao **PerigosoOuNão?**\"\n",
        "explanation =\"Ele classificará a interação entre **EXTREMAMENTE PERIGOSA**, **PERIGOSA**, **MODERADA**, **LEVE** ou **NENHUMA**. Além disso,\"\n",
        "example1= \"**Exemplo citando os medicamentos:** Marevan, Fluconazol e Cloridrato de Cetoconazol\"\n",
        "example2 = \"**Exemplo em uma pergunta:** Diga qual é a interação entre Marevan, Fluconazol e Cloridrato de Cetoconazol\"\n",
        "observation=\"**OBSERVAÇÃO:** Para sair do ChatBOT digite **'F'** ou **'FIM'** ou **apenas clique enter**\"\n",
        "display(Markdown(hello_world))\n",
        "print(\"O ChatBOT que pode salvar a sua vida\\n\")\n",
        "print(\"Coloque o nome dos medicamentos e o ChatBOT irá lhe informar se a interação medicamentosa é perigosa ou não\")\n",
        "display(Markdown(explanation))\n",
        "print(\"ele descreverá brevemente os medicamentos, os efeitos colaterais e quais são os grupos de risco.\\n\")\n",
        "print(\"Para começar suas pesquisas informe os medicamentos ao ChatBOT, seja em uma pergunta ou apenas citando eles\")\n",
        "display(Markdown(example2))\n",
        "display(Markdown(example1))\n",
        "print('\\n')\n",
        "display(Markdown(observation))\n",
        "print('\\n')\n",
        "\n",
        "prompt = input('Cite os Medicamentos para a Pesquisa: ')\n",
        "prompt = prompt.lower()\n",
        "\n",
        "while prompt != \"fim\" and prompt != \"f\" and prompt != \"\":\n",
        "  message1 = \"Guarde a mensagem a seguir: \" + prompt\n",
        "  chat.send_message(message1)\n",
        "  validation1 = chat.send_message(\"A temática desta mensagem é medicamentos? Se sim responda 'SIM', senão responda 'NAO' (sem o acento)\")\n",
        "  if validation1.text == \"SIM\":\n",
        "    validation2 = chat.send_message(\"Esta mensagem é subjetiva, uma opinião ou uma crença pessoal? Se sim responda 'SIM', senão responda 'NAO' (sem o acento)\")\n",
        "    if validation2.text == \"NAO\":\n",
        "      validation6 = chat.send_message(\"Esta mensagem é uma pergunta de caráter pessoal ou subjetivo? Se sim responda 'SIM', senão responda 'NAO' (sem o acento)\")\n",
        "      if validation6.text == \"NAO\":\n",
        "        validation3 = chat.send_message(\"Nesta mensagem há nome(s) de remédio(s)? Se sim responda 'SIM', senão responda 'NAO' (sem o acento)\")\n",
        "        if validation3.text == \"SIM\":\n",
        "          validation4 = chat.send_message(\"Esta mensagem é uma enumeração de medicamentos ou uma pergunta sobre a interação de determinados medicamentos? Se sim responda 'SIM', senão responda 'NAO' (sem o acento)\")\n",
        "          if validation4.text == \"SIM\":\n",
        "            validation5 = chat.send_message(\"Nesta interação há apenas um medicamento citado? Se sim responda 'SIM', senão responda 'NAO' (sem o acento)\")\n",
        "            if validation5.text == \"NAO\":\n",
        "              chat.send_message(\"Analise os efeitos colaterais da ingestão simultânea destes medicamentos, bem como sua periculosidade e gravidade\")\n",
        "              classification = chat.send_message(\"Classifique esta interação em 'INTERAÇÃO EXTREMAMENTE PERIGOSA', 'INTEREÇÃO PERIGOSA', 'INTERAÇÃO MODERADA', 'INTERAÇÃO LEVE' ou 'NENHUMA INTERAÇÃO'.\")\n",
        "\n",
        "              describe = chat.send_message(\"Escreva 'MEDICAMENTOS' linhas e, logo abaixo, faça uma descrição de cada medicamento, informando o seu componente ativo, seus efeitos e para que serve seu uso.\")\n",
        "              side_effects = chat.send_message(\"Escreva 'EFEITOS COLATERAIS' e, logo abaixo, explique quais são os efeitos desta interação medicamentosa, apontando como ocorre esta interação, os efeitos desta interação e o riscos desta interação\")\n",
        "              groups = chat.send_message(\"Escreva 'GRUPOS DE RISCO' e, logo abaixo, cite quais são os grupos de risco para esta interação\")\n",
        "              recommendation = chat.send_message (\"Escreva 'AVISO IMPORTANTE' e, logo abaixo, faça um breve comentário sobre os perigos da automedicação e sugerindo que um médico deve ser consultado \")\n",
        "              response = []\n",
        "              response.append(classification)\n",
        "              response.append(describe)\n",
        "              response.append(side_effects)\n",
        "              response.append(groups)\n",
        "              response.append(recommendation)\n",
        "              print('\\n')\n",
        "              print('--------------------------------------------------------------------------------------------------------------------------------------------------------------------------------------------------------------------------')\n",
        "              for message in response:\n",
        "                display(to_markdown(message.text))\n",
        "                print('\\n')\n",
        "              print('--------------------------------------------------------------------------------------------------------------------------------------------------------------------------------------------------------------------------')\n",
        "              print(\"\\n\")\n",
        "            else:\n",
        "              response = []\n",
        "              response.append(chat.send_message(\"Escreva uma mensagem dizendo é necessário no mínimo dois medicamentos para serem analisados\"))\n",
        "              print('\\n')\n",
        "              for message in response:\n",
        "                display(to_markdown(message.text))\n",
        "                print('\\n')\n",
        "          else:\n",
        "            response = []\n",
        "            response.append(chat.send_message(\"Escreva uma mensagem dizendo que o usuário deve citar nomes de medicamentos para serem analisados\"))\n",
        "            print('\\n')\n",
        "            for message in response:\n",
        "              display(to_markdown(message.text))\n",
        "              print('\\n')\n",
        "        else:\n",
        "          response = []\n",
        "          response.append(chat.send_message(\"Escreva uma mensagem dizendo que o usuário deve citar nomes de medicamentos para serem analisados\"))\n",
        "          print('\\n')\n",
        "          for message in response:\n",
        "            display(to_markdown(message.text))\n",
        "            print('\\n')\n",
        "      else:\n",
        "        response = []\n",
        "        response.append(chat.send_message(\"Escreva uma mensagem dizendo que esta mensagem foge da sua proposta de ser um ChatBOT\"))\n",
        "        print('\\n')\n",
        "        for message in response:\n",
        "          display(to_markdown(message.text))\n",
        "          print('\\n')\n",
        "    else:\n",
        "      response = []\n",
        "      response.append(chat.send_message(\"Escreva uma mensagem dizendo que esta mensagem foge da sua proposta de ser um ChatBOT\"))\n",
        "      print('\\n')\n",
        "      for message in response:\n",
        "        display(to_markdown(message.text))\n",
        "        print('\\n')\n",
        "  else:\n",
        "    response = []\n",
        "    response.append(chat.send_message(\"Escreva uma mensagem dizendo que esta mensagem foge da sua proposta de ser um ChatBOT\"))\n",
        "    print('\\n')\n",
        "    for message in response:\n",
        "      display(to_markdown(message.text))\n",
        "      print('\\n')\n",
        "  prompt = input('Cite os Medicamentos para a Pesquisa: ')\n",
        "  prompt = prompt.lower()\n",
        "\n",
        "print(\"\\n\")\n",
        "thanks = \"Obrigado por usar o **ChatBOT  'PerigosoOuNão?'**\"\n",
        "display(Markdown(thanks))"
      ],
      "metadata": {
        "colab": {
          "base_uri": "https://localhost:8080/",
          "height": 1000
        },
        "id": "XYFAR_i_1zNI",
        "outputId": "52357ff6-3658-46a8-ac42-d226a473b4a6"
      },
      "execution_count": 26,
      "outputs": [
        {
          "output_type": "display_data",
          "data": {
            "text/plain": [
              "<IPython.core.display.Markdown object>"
            ],
            "text/markdown": "Olá, seja bem-vindo ao **PerigosoOuNão?**"
          },
          "metadata": {}
        },
        {
          "output_type": "stream",
          "name": "stdout",
          "text": [
            "O ChatBOT que pode salvar a sua vida\n",
            "\n",
            "Coloque o nome dos medicamentos e o ChatBOT irá lhe informar se a interação medicamentosa é perigosa ou não\n"
          ]
        },
        {
          "output_type": "display_data",
          "data": {
            "text/plain": [
              "<IPython.core.display.Markdown object>"
            ],
            "text/markdown": "Ele classificará a interação entre **EXTREMAMENTE PERIGOSA**, **PERIGOSA**, **MODERADA**, **LEVE** ou **NENHUMA**. Além disso,"
          },
          "metadata": {}
        },
        {
          "output_type": "stream",
          "name": "stdout",
          "text": [
            "ele descreverá brevemente os medicamentos, os efeitos colaterais e quais são os grupos de risco.\n",
            "\n",
            "Para começar suas pesquisas informe os medicamentos ao ChatBOT, seja em uma pergunta ou apenas citando eles\n"
          ]
        },
        {
          "output_type": "display_data",
          "data": {
            "text/plain": [
              "<IPython.core.display.Markdown object>"
            ],
            "text/markdown": "**Exemplo em uma pergunta:** Diga qual é a interação entre Marevan, Fluconazol e Cloridrato de Cetoconazol"
          },
          "metadata": {}
        },
        {
          "output_type": "display_data",
          "data": {
            "text/plain": [
              "<IPython.core.display.Markdown object>"
            ],
            "text/markdown": "**Exemplo citando os medicamentos:** Marevan, Fluconazol e Cloridrato de Cetoconazol"
          },
          "metadata": {}
        },
        {
          "output_type": "stream",
          "name": "stdout",
          "text": [
            "\n",
            "\n"
          ]
        },
        {
          "output_type": "display_data",
          "data": {
            "text/plain": [
              "<IPython.core.display.Markdown object>"
            ],
            "text/markdown": "**OBSERVAÇÃO:** Para sair do ChatBOT digite **'F'** ou **'FIM'** ou **apenas clique enter**"
          },
          "metadata": {}
        },
        {
          "output_type": "stream",
          "name": "stdout",
          "text": [
            "\n",
            "\n",
            "Cite os Medicamentos para a Pesquisa: Diga qual é a interação entre Marevan, Fluconazol e Cloridrato de Cetoconazol\n",
            "\n",
            "\n",
            "--------------------------------------------------------------------------------------------------------------------------------------------------------------------------------------------------------------------------\n"
          ]
        },
        {
          "output_type": "display_data",
          "data": {
            "text/plain": [
              "<IPython.core.display.Markdown object>"
            ],
            "text/markdown": "> **INTERAÇÃO EXTREMAMENTE PERIGOSA**"
          },
          "metadata": {}
        },
        {
          "output_type": "stream",
          "name": "stdout",
          "text": [
            "\n",
            "\n"
          ]
        },
        {
          "output_type": "display_data",
          "data": {
            "text/plain": [
              "<IPython.core.display.Markdown object>"
            ],
            "text/markdown": "> **MEDICAMENTOS**\n> \n> **Marevan (varfarina)**\n> \n> * **Componente ativo:** Varfarina\n> * **Efeitos:** Anticoagulante que inibe a coagulação do sangue\n> * **Usos:** Prevenção e tratamento de coágulos sanguíneos, como trombose venosa profunda (TVP) e embolia pulmonar (EP)\n> \n> **Fluconazol**\n> \n> * **Componente ativo:** Fluconazol\n> * **Efeitos:** Antifúngico que inibe o crescimento de fungos\n> * **Usos:** Tratamento de infecções fúngicas, como candidíase e infecções fúngicas invasivas\n> \n> **Cloridrato de Cetoconazol**\n> \n> * **Componente ativo:** Cetoconazol\n> * **Efeitos:** Antifúngico que inibe o crescimento de fungos\n> * **Usos:** Tratamento de infecções fúngicas, como pé de atleta, micose e infecções fúngicas sistêmicas"
          },
          "metadata": {}
        },
        {
          "output_type": "stream",
          "name": "stdout",
          "text": [
            "\n",
            "\n"
          ]
        },
        {
          "output_type": "display_data",
          "data": {
            "text/plain": [
              "<IPython.core.display.Markdown object>"
            ],
            "text/markdown": "> **EFEITOS COLATERAIS**\n> \n> **Como ocorre a interação:**\n> \n> Fluconazol e cloridrato de cetoconazol inibem o metabolismo de Marevan no fígado, o que leva ao aumento dos níveis de Marevan no sangue.\n> \n> **Efeitos desta interação:**\n> \n> * Aumento do risco de sangramento\n> * Hemorragia grave (com risco de vida)\n> \n> **Riscos desta interação:**\n> \n> A ingestão simultânea de Marevan, Fluconazol e Cloridrato de Cetoconazol pode ser perigosa e potencialmente fatal. O risco de sangramento é particularmente grave, pois pode levar a hemorragias internas ou externas com risco de vida.\n> \n> **Gerenciamento:**\n> \n> * Monitore os níveis de INR de perto durante o tratamento com esses medicamentos.\n> * Ajuste a dose de Marevan conforme necessário para manter os níveis de INR dentro da faixa terapêutica.\n> * Considere o uso de um anticoagulante alternativo se o Fluconazol ou o Cloridrato de Cetoconazol não puderem ser evitados.\n> * Procure atendimento médico imediatamente se sentir algum efeito colateral grave, como sangramento incomum ou erupção cutânea grave."
          },
          "metadata": {}
        },
        {
          "output_type": "stream",
          "name": "stdout",
          "text": [
            "\n",
            "\n"
          ]
        },
        {
          "output_type": "display_data",
          "data": {
            "text/plain": [
              "<IPython.core.display.Markdown object>"
            ],
            "text/markdown": "> **GRUPOS DE RISCO**\n> \n> Os seguintes grupos de pessoas têm maior risco de desenvolver efeitos colaterais graves desta interação medicamentosa:\n> \n> * Pessoas que tomam Marevan para prevenir ou tratar coágulos sanguíneos\n> * Pessoas com histórico de sangramento ou distúrbios hemorrágicos\n> * Pessoas com doença hepática\n> * Pessoas idosas\n> * Pessoas que tomam outros medicamentos que podem aumentar o risco de sangramento, como aspirina ou anti-inflamatórios não esteroides (AINEs)"
          },
          "metadata": {}
        },
        {
          "output_type": "stream",
          "name": "stdout",
          "text": [
            "\n",
            "\n"
          ]
        },
        {
          "output_type": "display_data",
          "data": {
            "text/plain": [
              "<IPython.core.display.Markdown object>"
            ],
            "text/markdown": "> **AVISO IMPORTANTE**\n> \n> A automedicação pode ser perigosa. A interação medicamentosa descrita nesta conversa pode ser grave e potencialmente fatal. Nunca tome medicamentos sem consultar um médico ou farmacêutico. Se você estiver tomando Marevan, Fluconazol ou Cloridrato de Cetoconazol, é importante informar seu médico sobre todos os outros medicamentos que você está tomando. Seu médico pode monitorar seus níveis de INR e ajustar sua dose de Marevan conforme necessário para minimizar o risco de sangramento."
          },
          "metadata": {}
        },
        {
          "output_type": "stream",
          "name": "stdout",
          "text": [
            "\n",
            "\n",
            "--------------------------------------------------------------------------------------------------------------------------------------------------------------------------------------------------------------------------\n",
            "\n",
            "\n",
            "Cite os Medicamentos para a Pesquisa: \n",
            "\n",
            "\n"
          ]
        },
        {
          "output_type": "display_data",
          "data": {
            "text/plain": [
              "<IPython.core.display.Markdown object>"
            ],
            "text/markdown": "Obrigado por usar o **ChatBOT  'PerigosoOuNão?'**"
          },
          "metadata": {}
        }
      ]
    }
  ]
}